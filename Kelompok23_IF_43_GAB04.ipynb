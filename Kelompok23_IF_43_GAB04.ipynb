{
  "nbformat": 4,
  "nbformat_minor": 0,
  "metadata": {
    "colab": {
      "name": "Kelompok23_IF-43-GAB04",
      "provenance": [],
      "collapsed_sections": [],
      "toc_visible": true,
      "include_colab_link": true
    },
    "kernelspec": {
      "name": "python3",
      "display_name": "Python 3"
    }
  },
  "cells": [
    {
      "cell_type": "markdown",
      "metadata": {
        "id": "view-in-github",
        "colab_type": "text"
      },
      "source": [
        "<a href=\"https://colab.research.google.com/github/agusjanardana/tubes-statistika/blob/main/Kelompok23_IF_43_GAB04.ipynb\" target=\"_parent\"><img src=\"https://colab.research.google.com/assets/colab-badge.svg\" alt=\"Open In Colab\"/></a>"
      ]
    },
    {
      "cell_type": "markdown",
      "metadata": {
        "id": "AqYpmj_9JDry"
      },
      "source": [
        "# Tugas Besar Statistika\r\n",
        "\r\n",
        "Anggota Kelompok 23:\r\n",
        "- I Gde Bagus Janardana Abasan (1301190061)\r\n",
        "- Muhammad Zaky Al Fatih (1301190445)\r\n",
        "- Muhamad Faishal Irawan (1301194262)\r\n",
        "\r\n",
        "Tujuan eksplorasi: Mendapat gambaran tentang karakteristik pemegang kartu kredit dari suatu bank"
      ]
    },
    {
      "cell_type": "markdown",
      "metadata": {
        "id": "tkOBckR6LSEq"
      },
      "source": [
        "# Sumber data\r\n",
        "\r\n",
        "Data bersumber dari https://www.kaggle.com/sakshigoyal7/credit-card-customers. Data didownload dan diimport ke dalam notebook dalam format .csv."
      ]
    },
    {
      "cell_type": "code",
      "metadata": {
        "id": "c4lETlUr4wLg",
        "colab": {
          "resources": {
            "http://localhost:8080/nbextensions/google.colab/files.js": {
              "data": "Ly8gQ29weXJpZ2h0IDIwMTcgR29vZ2xlIExMQwovLwovLyBMaWNlbnNlZCB1bmRlciB0aGUgQXBhY2hlIExpY2Vuc2UsIFZlcnNpb24gMi4wICh0aGUgIkxpY2Vuc2UiKTsKLy8geW91IG1heSBub3QgdXNlIHRoaXMgZmlsZSBleGNlcHQgaW4gY29tcGxpYW5jZSB3aXRoIHRoZSBMaWNlbnNlLgovLyBZb3UgbWF5IG9idGFpbiBhIGNvcHkgb2YgdGhlIExpY2Vuc2UgYXQKLy8KLy8gICAgICBodHRwOi8vd3d3LmFwYWNoZS5vcmcvbGljZW5zZXMvTElDRU5TRS0yLjAKLy8KLy8gVW5sZXNzIHJlcXVpcmVkIGJ5IGFwcGxpY2FibGUgbGF3IG9yIGFncmVlZCB0byBpbiB3cml0aW5nLCBzb2Z0d2FyZQovLyBkaXN0cmlidXRlZCB1bmRlciB0aGUgTGljZW5zZSBpcyBkaXN0cmlidXRlZCBvbiBhbiAiQVMgSVMiIEJBU0lTLAovLyBXSVRIT1VUIFdBUlJBTlRJRVMgT1IgQ09ORElUSU9OUyBPRiBBTlkgS0lORCwgZWl0aGVyIGV4cHJlc3Mgb3IgaW1wbGllZC4KLy8gU2VlIHRoZSBMaWNlbnNlIGZvciB0aGUgc3BlY2lmaWMgbGFuZ3VhZ2UgZ292ZXJuaW5nIHBlcm1pc3Npb25zIGFuZAovLyBsaW1pdGF0aW9ucyB1bmRlciB0aGUgTGljZW5zZS4KCi8qKgogKiBAZmlsZW92ZXJ2aWV3IEhlbHBlcnMgZm9yIGdvb2dsZS5jb2xhYiBQeXRob24gbW9kdWxlLgogKi8KKGZ1bmN0aW9uKHNjb3BlKSB7CmZ1bmN0aW9uIHNwYW4odGV4dCwgc3R5bGVBdHRyaWJ1dGVzID0ge30pIHsKICBjb25zdCBlbGVtZW50ID0gZG9jdW1lbnQuY3JlYXRlRWxlbWVudCgnc3BhbicpOwogIGVsZW1lbnQudGV4dENvbnRlbnQgPSB0ZXh0OwogIGZvciAoY29uc3Qga2V5IG9mIE9iamVjdC5rZXlzKHN0eWxlQXR0cmlidXRlcykpIHsKICAgIGVsZW1lbnQuc3R5bGVba2V5XSA9IHN0eWxlQXR0cmlidXRlc1trZXldOwogIH0KICByZXR1cm4gZWxlbWVudDsKfQoKLy8gTWF4IG51bWJlciBvZiBieXRlcyB3aGljaCB3aWxsIGJlIHVwbG9hZGVkIGF0IGEgdGltZS4KY29uc3QgTUFYX1BBWUxPQURfU0laRSA9IDEwMCAqIDEwMjQ7CgpmdW5jdGlvbiBfdXBsb2FkRmlsZXMoaW5wdXRJZCwgb3V0cHV0SWQpIHsKICBjb25zdCBzdGVwcyA9IHVwbG9hZEZpbGVzU3RlcChpbnB1dElkLCBvdXRwdXRJZCk7CiAgY29uc3Qgb3V0cHV0RWxlbWVudCA9IGRvY3VtZW50LmdldEVsZW1lbnRCeUlkKG91dHB1dElkKTsKICAvLyBDYWNoZSBzdGVwcyBvbiB0aGUgb3V0cHV0RWxlbWVudCB0byBtYWtlIGl0IGF2YWlsYWJsZSBmb3IgdGhlIG5leHQgY2FsbAogIC8vIHRvIHVwbG9hZEZpbGVzQ29udGludWUgZnJvbSBQeXRob24uCiAgb3V0cHV0RWxlbWVudC5zdGVwcyA9IHN0ZXBzOwoKICByZXR1cm4gX3VwbG9hZEZpbGVzQ29udGludWUob3V0cHV0SWQpOwp9CgovLyBUaGlzIGlzIHJvdWdobHkgYW4gYXN5bmMgZ2VuZXJhdG9yIChub3Qgc3VwcG9ydGVkIGluIHRoZSBicm93c2VyIHlldCksCi8vIHdoZXJlIHRoZXJlIGFyZSBtdWx0aXBsZSBhc3luY2hyb25vdXMgc3RlcHMgYW5kIHRoZSBQeXRob24gc2lkZSBpcyBnb2luZwovLyB0byBwb2xsIGZvciBjb21wbGV0aW9uIG9mIGVhY2ggc3RlcC4KLy8gVGhpcyB1c2VzIGEgUHJvbWlzZSB0byBibG9jayB0aGUgcHl0aG9uIHNpZGUgb24gY29tcGxldGlvbiBvZiBlYWNoIHN0ZXAsCi8vIHRoZW4gcGFzc2VzIHRoZSByZXN1bHQgb2YgdGhlIHByZXZpb3VzIHN0ZXAgYXMgdGhlIGlucHV0IHRvIHRoZSBuZXh0IHN0ZXAuCmZ1bmN0aW9uIF91cGxvYWRGaWxlc0NvbnRpbnVlKG91dHB1dElkKSB7CiAgY29uc3Qgb3V0cHV0RWxlbWVudCA9IGRvY3VtZW50LmdldEVsZW1lbnRCeUlkKG91dHB1dElkKTsKICBjb25zdCBzdGVwcyA9IG91dHB1dEVsZW1lbnQuc3RlcHM7CgogIGNvbnN0IG5leHQgPSBzdGVwcy5uZXh0KG91dHB1dEVsZW1lbnQubGFzdFByb21pc2VWYWx1ZSk7CiAgcmV0dXJuIFByb21pc2UucmVzb2x2ZShuZXh0LnZhbHVlLnByb21pc2UpLnRoZW4oKHZhbHVlKSA9PiB7CiAgICAvLyBDYWNoZSB0aGUgbGFzdCBwcm9taXNlIHZhbHVlIHRvIG1ha2UgaXQgYXZhaWxhYmxlIHRvIHRoZSBuZXh0CiAgICAvLyBzdGVwIG9mIHRoZSBnZW5lcmF0b3IuCiAgICBvdXRwdXRFbGVtZW50Lmxhc3RQcm9taXNlVmFsdWUgPSB2YWx1ZTsKICAgIHJldHVybiBuZXh0LnZhbHVlLnJlc3BvbnNlOwogIH0pOwp9CgovKioKICogR2VuZXJhdG9yIGZ1bmN0aW9uIHdoaWNoIGlzIGNhbGxlZCBiZXR3ZWVuIGVhY2ggYXN5bmMgc3RlcCBvZiB0aGUgdXBsb2FkCiAqIHByb2Nlc3MuCiAqIEBwYXJhbSB7c3RyaW5nfSBpbnB1dElkIEVsZW1lbnQgSUQgb2YgdGhlIGlucHV0IGZpbGUgcGlja2VyIGVsZW1lbnQuCiAqIEBwYXJhbSB7c3RyaW5nfSBvdXRwdXRJZCBFbGVtZW50IElEIG9mIHRoZSBvdXRwdXQgZGlzcGxheS4KICogQHJldHVybiB7IUl0ZXJhYmxlPCFPYmplY3Q+fSBJdGVyYWJsZSBvZiBuZXh0IHN0ZXBzLgogKi8KZnVuY3Rpb24qIHVwbG9hZEZpbGVzU3RlcChpbnB1dElkLCBvdXRwdXRJZCkgewogIGNvbnN0IGlucHV0RWxlbWVudCA9IGRvY3VtZW50LmdldEVsZW1lbnRCeUlkKGlucHV0SWQpOwogIGlucHV0RWxlbWVudC5kaXNhYmxlZCA9IGZhbHNlOwoKICBjb25zdCBvdXRwdXRFbGVtZW50ID0gZG9jdW1lbnQuZ2V0RWxlbWVudEJ5SWQob3V0cHV0SWQpOwogIG91dHB1dEVsZW1lbnQuaW5uZXJIVE1MID0gJyc7CgogIGNvbnN0IHBpY2tlZFByb21pc2UgPSBuZXcgUHJvbWlzZSgocmVzb2x2ZSkgPT4gewogICAgaW5wdXRFbGVtZW50LmFkZEV2ZW50TGlzdGVuZXIoJ2NoYW5nZScsIChlKSA9PiB7CiAgICAgIHJlc29sdmUoZS50YXJnZXQuZmlsZXMpOwogICAgfSk7CiAgfSk7CgogIGNvbnN0IGNhbmNlbCA9IGRvY3VtZW50LmNyZWF0ZUVsZW1lbnQoJ2J1dHRvbicpOwogIGlucHV0RWxlbWVudC5wYXJlbnRFbGVtZW50LmFwcGVuZENoaWxkKGNhbmNlbCk7CiAgY2FuY2VsLnRleHRDb250ZW50ID0gJ0NhbmNlbCB1cGxvYWQnOwogIGNvbnN0IGNhbmNlbFByb21pc2UgPSBuZXcgUHJvbWlzZSgocmVzb2x2ZSkgPT4gewogICAgY2FuY2VsLm9uY2xpY2sgPSAoKSA9PiB7CiAgICAgIHJlc29sdmUobnVsbCk7CiAgICB9OwogIH0pOwoKICAvLyBXYWl0IGZvciB0aGUgdXNlciB0byBwaWNrIHRoZSBmaWxlcy4KICBjb25zdCBmaWxlcyA9IHlpZWxkIHsKICAgIHByb21pc2U6IFByb21pc2UucmFjZShbcGlja2VkUHJvbWlzZSwgY2FuY2VsUHJvbWlzZV0pLAogICAgcmVzcG9uc2U6IHsKICAgICAgYWN0aW9uOiAnc3RhcnRpbmcnLAogICAgfQogIH07CgogIGNhbmNlbC5yZW1vdmUoKTsKCiAgLy8gRGlzYWJsZSB0aGUgaW5wdXQgZWxlbWVudCBzaW5jZSBmdXJ0aGVyIHBpY2tzIGFyZSBub3QgYWxsb3dlZC4KICBpbnB1dEVsZW1lbnQuZGlzYWJsZWQgPSB0cnVlOwoKICBpZiAoIWZpbGVzKSB7CiAgICByZXR1cm4gewogICAgICByZXNwb25zZTogewogICAgICAgIGFjdGlvbjogJ2NvbXBsZXRlJywKICAgICAgfQogICAgfTsKICB9CgogIGZvciAoY29uc3QgZmlsZSBvZiBmaWxlcykgewogICAgY29uc3QgbGkgPSBkb2N1bWVudC5jcmVhdGVFbGVtZW50KCdsaScpOwogICAgbGkuYXBwZW5kKHNwYW4oZmlsZS5uYW1lLCB7Zm9udFdlaWdodDogJ2JvbGQnfSkpOwogICAgbGkuYXBwZW5kKHNwYW4oCiAgICAgICAgYCgke2ZpbGUudHlwZSB8fCAnbi9hJ30pIC0gJHtmaWxlLnNpemV9IGJ5dGVzLCBgICsKICAgICAgICBgbGFzdCBtb2RpZmllZDogJHsKICAgICAgICAgICAgZmlsZS5sYXN0TW9kaWZpZWREYXRlID8gZmlsZS5sYXN0TW9kaWZpZWREYXRlLnRvTG9jYWxlRGF0ZVN0cmluZygpIDoKICAgICAgICAgICAgICAgICAgICAgICAgICAgICAgICAgICAgJ24vYSd9IC0gYCkpOwogICAgY29uc3QgcGVyY2VudCA9IHNwYW4oJzAlIGRvbmUnKTsKICAgIGxpLmFwcGVuZENoaWxkKHBlcmNlbnQpOwoKICAgIG91dHB1dEVsZW1lbnQuYXBwZW5kQ2hpbGQobGkpOwoKICAgIGNvbnN0IGZpbGVEYXRhUHJvbWlzZSA9IG5ldyBQcm9taXNlKChyZXNvbHZlKSA9PiB7CiAgICAgIGNvbnN0IHJlYWRlciA9IG5ldyBGaWxlUmVhZGVyKCk7CiAgICAgIHJlYWRlci5vbmxvYWQgPSAoZSkgPT4gewogICAgICAgIHJlc29sdmUoZS50YXJnZXQucmVzdWx0KTsKICAgICAgfTsKICAgICAgcmVhZGVyLnJlYWRBc0FycmF5QnVmZmVyKGZpbGUpOwogICAgfSk7CiAgICAvLyBXYWl0IGZvciB0aGUgZGF0YSB0byBiZSByZWFkeS4KICAgIGxldCBmaWxlRGF0YSA9IHlpZWxkIHsKICAgICAgcHJvbWlzZTogZmlsZURhdGFQcm9taXNlLAogICAgICByZXNwb25zZTogewogICAgICAgIGFjdGlvbjogJ2NvbnRpbnVlJywKICAgICAgfQogICAgfTsKCiAgICAvLyBVc2UgYSBjaHVua2VkIHNlbmRpbmcgdG8gYXZvaWQgbWVzc2FnZSBzaXplIGxpbWl0cy4gU2VlIGIvNjIxMTU2NjAuCiAgICBsZXQgcG9zaXRpb24gPSAwOwogICAgd2hpbGUgKHBvc2l0aW9uIDwgZmlsZURhdGEuYnl0ZUxlbmd0aCkgewogICAgICBjb25zdCBsZW5ndGggPSBNYXRoLm1pbihmaWxlRGF0YS5ieXRlTGVuZ3RoIC0gcG9zaXRpb24sIE1BWF9QQVlMT0FEX1NJWkUpOwogICAgICBjb25zdCBjaHVuayA9IG5ldyBVaW50OEFycmF5KGZpbGVEYXRhLCBwb3NpdGlvbiwgbGVuZ3RoKTsKICAgICAgcG9zaXRpb24gKz0gbGVuZ3RoOwoKICAgICAgY29uc3QgYmFzZTY0ID0gYnRvYShTdHJpbmcuZnJvbUNoYXJDb2RlLmFwcGx5KG51bGwsIGNodW5rKSk7CiAgICAgIHlpZWxkIHsKICAgICAgICByZXNwb25zZTogewogICAgICAgICAgYWN0aW9uOiAnYXBwZW5kJywKICAgICAgICAgIGZpbGU6IGZpbGUubmFtZSwKICAgICAgICAgIGRhdGE6IGJhc2U2NCwKICAgICAgICB9LAogICAgICB9OwogICAgICBwZXJjZW50LnRleHRDb250ZW50ID0KICAgICAgICAgIGAke01hdGgucm91bmQoKHBvc2l0aW9uIC8gZmlsZURhdGEuYnl0ZUxlbmd0aCkgKiAxMDApfSUgZG9uZWA7CiAgICB9CiAgfQoKICAvLyBBbGwgZG9uZS4KICB5aWVsZCB7CiAgICByZXNwb25zZTogewogICAgICBhY3Rpb246ICdjb21wbGV0ZScsCiAgICB9CiAgfTsKfQoKc2NvcGUuZ29vZ2xlID0gc2NvcGUuZ29vZ2xlIHx8IHt9OwpzY29wZS5nb29nbGUuY29sYWIgPSBzY29wZS5nb29nbGUuY29sYWIgfHwge307CnNjb3BlLmdvb2dsZS5jb2xhYi5fZmlsZXMgPSB7CiAgX3VwbG9hZEZpbGVzLAogIF91cGxvYWRGaWxlc0NvbnRpbnVlLAp9Owp9KShzZWxmKTsK",
              "ok": true,
              "headers": [
                [
                  "content-type",
                  "application/javascript"
                ]
              ],
              "status": 200,
              "status_text": ""
            }
          },
          "base_uri": "https://localhost:8080/",
          "height": 90
        },
        "outputId": "ef7b346b-a91c-454c-e0bd-eaf596bec9f9"
      },
      "source": [
        "import pandas as pd\r\n",
        "import io\r\n",
        "from google.colab import files\r\n",
        "\r\n",
        "uploaded = files.upload()\r\n",
        "\r\n",
        "for fn in uploaded.keys():\r\n",
        "  print('Sudah mengupload file dengan nama \"{name}\" dan panjang {length} bytes'.format(\r\n",
        "      name=fn, length=len(uploaded[fn])))\r\n",
        "  \r\n",
        "data = pd.read_csv(io.StringIO(uploaded['BankChurners.csv'].decode('utf-8')))"
      ],
      "execution_count": null,
      "outputs": [
        {
          "output_type": "display_data",
          "data": {
            "text/html": [
              "\n",
              "     <input type=\"file\" id=\"files-d7454f4f-6a63-40fc-8ec7-96fa6d91618e\" name=\"files[]\" multiple disabled\n",
              "        style=\"border:none\" />\n",
              "     <output id=\"result-d7454f4f-6a63-40fc-8ec7-96fa6d91618e\">\n",
              "      Upload widget is only available when the cell has been executed in the\n",
              "      current browser session. Please rerun this cell to enable.\n",
              "      </output>\n",
              "      <script src=\"/nbextensions/google.colab/files.js\"></script> "
            ],
            "text/plain": [
              "<IPython.core.display.HTML object>"
            ]
          },
          "metadata": {
            "tags": []
          }
        },
        {
          "output_type": "stream",
          "text": [
            "Saving BankChurners.csv to BankChurners.csv\n",
            "Sudah mengupload file dengan nama \"BankChurners.csv\" dan panjang 1394543 bytes\n"
          ],
          "name": "stdout"
        }
      ]
    },
    {
      "cell_type": "code",
      "metadata": {
        "id": "6bliaS9MIeFk",
        "colab": {
          "base_uri": "https://localhost:8080/",
          "height": 292
        },
        "outputId": "18640dd9-4400-43ce-e595-daa00b6b5897"
      },
      "source": [
        "data.head()"
      ],
      "execution_count": null,
      "outputs": [
        {
          "output_type": "execute_result",
          "data": {
            "text/html": [
              "<div>\n",
              "<style scoped>\n",
              "    .dataframe tbody tr th:only-of-type {\n",
              "        vertical-align: middle;\n",
              "    }\n",
              "\n",
              "    .dataframe tbody tr th {\n",
              "        vertical-align: top;\n",
              "    }\n",
              "\n",
              "    .dataframe thead th {\n",
              "        text-align: right;\n",
              "    }\n",
              "</style>\n",
              "<table border=\"1\" class=\"dataframe\">\n",
              "  <thead>\n",
              "    <tr style=\"text-align: right;\">\n",
              "      <th></th>\n",
              "      <th>CLIENTNUM</th>\n",
              "      <th>Attrition_Flag</th>\n",
              "      <th>Customer_Age</th>\n",
              "      <th>Gender</th>\n",
              "      <th>Dependent_count</th>\n",
              "      <th>Education_Level</th>\n",
              "      <th>Marital_Status</th>\n",
              "      <th>Income_Category</th>\n",
              "      <th>Card_Category</th>\n",
              "      <th>Months_on_book</th>\n",
              "      <th>Total_Relationship_Count</th>\n",
              "      <th>Months_Inactive_12_mon</th>\n",
              "      <th>Contacts_Count_12_mon</th>\n",
              "      <th>Credit_Limit</th>\n",
              "      <th>Total_Revolving_Bal</th>\n",
              "      <th>Avg_Open_To_Buy</th>\n",
              "      <th>Total_Amt_Chng_Q4_Q1</th>\n",
              "      <th>Total_Trans_Amt</th>\n",
              "      <th>Total_Trans_Ct</th>\n",
              "      <th>Total_Ct_Chng_Q4_Q1</th>\n",
              "      <th>Avg_Utilization_Ratio</th>\n",
              "      <th>Naive_Bayes_Classifier_Attrition_Flag_Card_Category_Contacts_Count_12_mon_Dependent_count_Education_Level_Months_Inactive_12_mon_1</th>\n",
              "      <th>Naive_Bayes_Classifier_Attrition_Flag_Card_Category_Contacts_Count_12_mon_Dependent_count_Education_Level_Months_Inactive_12_mon_2</th>\n",
              "    </tr>\n",
              "  </thead>\n",
              "  <tbody>\n",
              "    <tr>\n",
              "      <th>0</th>\n",
              "      <td>768805383</td>\n",
              "      <td>Existing Customer</td>\n",
              "      <td>45</td>\n",
              "      <td>M</td>\n",
              "      <td>3</td>\n",
              "      <td>High School</td>\n",
              "      <td>Married</td>\n",
              "      <td>$60K - $80K</td>\n",
              "      <td>Blue</td>\n",
              "      <td>39</td>\n",
              "      <td>5</td>\n",
              "      <td>1</td>\n",
              "      <td>3</td>\n",
              "      <td>12691.0</td>\n",
              "      <td>777</td>\n",
              "      <td>11914.0</td>\n",
              "      <td>1.335</td>\n",
              "      <td>1144</td>\n",
              "      <td>42</td>\n",
              "      <td>1.625</td>\n",
              "      <td>0.061</td>\n",
              "      <td>0.000093</td>\n",
              "      <td>0.99991</td>\n",
              "    </tr>\n",
              "    <tr>\n",
              "      <th>1</th>\n",
              "      <td>818770008</td>\n",
              "      <td>Existing Customer</td>\n",
              "      <td>49</td>\n",
              "      <td>F</td>\n",
              "      <td>5</td>\n",
              "      <td>Graduate</td>\n",
              "      <td>Single</td>\n",
              "      <td>Less than $40K</td>\n",
              "      <td>Blue</td>\n",
              "      <td>44</td>\n",
              "      <td>6</td>\n",
              "      <td>1</td>\n",
              "      <td>2</td>\n",
              "      <td>8256.0</td>\n",
              "      <td>864</td>\n",
              "      <td>7392.0</td>\n",
              "      <td>1.541</td>\n",
              "      <td>1291</td>\n",
              "      <td>33</td>\n",
              "      <td>3.714</td>\n",
              "      <td>0.105</td>\n",
              "      <td>0.000057</td>\n",
              "      <td>0.99994</td>\n",
              "    </tr>\n",
              "    <tr>\n",
              "      <th>2</th>\n",
              "      <td>713982108</td>\n",
              "      <td>Existing Customer</td>\n",
              "      <td>51</td>\n",
              "      <td>M</td>\n",
              "      <td>3</td>\n",
              "      <td>Graduate</td>\n",
              "      <td>Married</td>\n",
              "      <td>$80K - $120K</td>\n",
              "      <td>Blue</td>\n",
              "      <td>36</td>\n",
              "      <td>4</td>\n",
              "      <td>1</td>\n",
              "      <td>0</td>\n",
              "      <td>3418.0</td>\n",
              "      <td>0</td>\n",
              "      <td>3418.0</td>\n",
              "      <td>2.594</td>\n",
              "      <td>1887</td>\n",
              "      <td>20</td>\n",
              "      <td>2.333</td>\n",
              "      <td>0.000</td>\n",
              "      <td>0.000021</td>\n",
              "      <td>0.99998</td>\n",
              "    </tr>\n",
              "    <tr>\n",
              "      <th>3</th>\n",
              "      <td>769911858</td>\n",
              "      <td>Existing Customer</td>\n",
              "      <td>40</td>\n",
              "      <td>F</td>\n",
              "      <td>4</td>\n",
              "      <td>High School</td>\n",
              "      <td>Unknown</td>\n",
              "      <td>Less than $40K</td>\n",
              "      <td>Blue</td>\n",
              "      <td>34</td>\n",
              "      <td>3</td>\n",
              "      <td>4</td>\n",
              "      <td>1</td>\n",
              "      <td>3313.0</td>\n",
              "      <td>2517</td>\n",
              "      <td>796.0</td>\n",
              "      <td>1.405</td>\n",
              "      <td>1171</td>\n",
              "      <td>20</td>\n",
              "      <td>2.333</td>\n",
              "      <td>0.760</td>\n",
              "      <td>0.000134</td>\n",
              "      <td>0.99987</td>\n",
              "    </tr>\n",
              "    <tr>\n",
              "      <th>4</th>\n",
              "      <td>709106358</td>\n",
              "      <td>Existing Customer</td>\n",
              "      <td>40</td>\n",
              "      <td>M</td>\n",
              "      <td>3</td>\n",
              "      <td>Uneducated</td>\n",
              "      <td>Married</td>\n",
              "      <td>$60K - $80K</td>\n",
              "      <td>Blue</td>\n",
              "      <td>21</td>\n",
              "      <td>5</td>\n",
              "      <td>1</td>\n",
              "      <td>0</td>\n",
              "      <td>4716.0</td>\n",
              "      <td>0</td>\n",
              "      <td>4716.0</td>\n",
              "      <td>2.175</td>\n",
              "      <td>816</td>\n",
              "      <td>28</td>\n",
              "      <td>2.500</td>\n",
              "      <td>0.000</td>\n",
              "      <td>0.000022</td>\n",
              "      <td>0.99998</td>\n",
              "    </tr>\n",
              "  </tbody>\n",
              "</table>\n",
              "</div>"
            ],
            "text/plain": [
              "   CLIENTNUM  ... Naive_Bayes_Classifier_Attrition_Flag_Card_Category_Contacts_Count_12_mon_Dependent_count_Education_Level_Months_Inactive_12_mon_2\n",
              "0  768805383  ...                                            0.99991                                                                                \n",
              "1  818770008  ...                                            0.99994                                                                                \n",
              "2  713982108  ...                                            0.99998                                                                                \n",
              "3  769911858  ...                                            0.99987                                                                                \n",
              "4  709106358  ...                                            0.99998                                                                                \n",
              "\n",
              "[5 rows x 23 columns]"
            ]
          },
          "metadata": {
            "tags": []
          },
          "execution_count": 32
        }
      ]
    },
    {
      "cell_type": "markdown",
      "metadata": {
        "id": "cnh0gnuF-t2u"
      },
      "source": [
        "# Metode\r\n",
        "\r\n",
        "Metode yang akan kami gunakan adalah sebagai berikut:\r\n",
        "\r\n",
        "1. **Korelasi**, mencari korelasi antara status pernikahan dengan pendapatan\r\n",
        "2. **Box Plot**, mencari penyebaran jangka waktu hubungan pemegang kartu kredit dengan bank menggunakan pengelompokkan box plot\r\n",
        "3. **Diagram Batang**, mencari income category pemegang kartu kredit terbanyak dan tersedikit\r\n",
        "4. **Heat Map**, Mencari heatmap dari income catagory dan customer age, dimana customer age kita sudah menjadikannya sebagai age-range agar mempermudah pengerjaannya dan pemahaman.\r\n",
        "5. **Histogram**,total_amt_change_q4_q1, mencari perubahan amount dalam beberapa bin pada histogram ini"
      ]
    },
    {
      "cell_type": "markdown",
      "metadata": {
        "id": "ip5Uz6jHV0bw"
      },
      "source": [
        "## **Data Wrangling**\r\n",
        "\r\n",
        "Menghapus kolom data yang tidak digunakan. Kolom yang kami gunakan adalah status pernikahan (Marital_Status), pendapatan (Income_Category),  jangka waktu hubungan pemegang kartu kredit dengan bank (Months_on_book), limit kredit (Credit_Limit), perubahan jumlah transaksi dari Q1 sampai Q4 (Total_Amt_Chng_Q4_Q1)."
      ]
    },
    {
      "cell_type": "code",
      "metadata": {
        "id": "upo_m1ycWLfT",
        "colab": {
          "base_uri": "https://localhost:8080/",
          "height": 402
        },
        "outputId": "dd37a9e6-e137-4c52-de7d-f62d1a84934f"
      },
      "source": [
        "# Menghapus kolom data selain yang digunakan\r\n",
        "# ref: https://stackoverflow.com/a/53214704/7936248\r\n",
        "\r\n",
        "data = data.filter(['Marital_Status', 'Income_Category', 'Total_Amt_Chng_Q4_Q1' ,'Customer_Age'])\r\n",
        "data"
      ],
      "execution_count": null,
      "outputs": [
        {
          "output_type": "execute_result",
          "data": {
            "text/html": [
              "<div>\n",
              "<style scoped>\n",
              "    .dataframe tbody tr th:only-of-type {\n",
              "        vertical-align: middle;\n",
              "    }\n",
              "\n",
              "    .dataframe tbody tr th {\n",
              "        vertical-align: top;\n",
              "    }\n",
              "\n",
              "    .dataframe thead th {\n",
              "        text-align: right;\n",
              "    }\n",
              "</style>\n",
              "<table border=\"1\" class=\"dataframe\">\n",
              "  <thead>\n",
              "    <tr style=\"text-align: right;\">\n",
              "      <th></th>\n",
              "      <th>Marital_Status</th>\n",
              "      <th>Income_Category</th>\n",
              "      <th>Total_Amt_Chng_Q4_Q1</th>\n",
              "      <th>Customer_Age</th>\n",
              "    </tr>\n",
              "  </thead>\n",
              "  <tbody>\n",
              "    <tr>\n",
              "      <th>0</th>\n",
              "      <td>Married</td>\n",
              "      <td>$60K - $80K</td>\n",
              "      <td>1.335</td>\n",
              "      <td>45</td>\n",
              "    </tr>\n",
              "    <tr>\n",
              "      <th>1</th>\n",
              "      <td>Single</td>\n",
              "      <td>Less than $40K</td>\n",
              "      <td>1.541</td>\n",
              "      <td>49</td>\n",
              "    </tr>\n",
              "    <tr>\n",
              "      <th>2</th>\n",
              "      <td>Married</td>\n",
              "      <td>$80K - $120K</td>\n",
              "      <td>2.594</td>\n",
              "      <td>51</td>\n",
              "    </tr>\n",
              "    <tr>\n",
              "      <th>3</th>\n",
              "      <td>Unknown</td>\n",
              "      <td>Less than $40K</td>\n",
              "      <td>1.405</td>\n",
              "      <td>40</td>\n",
              "    </tr>\n",
              "    <tr>\n",
              "      <th>4</th>\n",
              "      <td>Married</td>\n",
              "      <td>$60K - $80K</td>\n",
              "      <td>2.175</td>\n",
              "      <td>40</td>\n",
              "    </tr>\n",
              "    <tr>\n",
              "      <th>...</th>\n",
              "      <td>...</td>\n",
              "      <td>...</td>\n",
              "      <td>...</td>\n",
              "      <td>...</td>\n",
              "    </tr>\n",
              "    <tr>\n",
              "      <th>10122</th>\n",
              "      <td>Single</td>\n",
              "      <td>$40K - $60K</td>\n",
              "      <td>0.703</td>\n",
              "      <td>50</td>\n",
              "    </tr>\n",
              "    <tr>\n",
              "      <th>10123</th>\n",
              "      <td>Divorced</td>\n",
              "      <td>$40K - $60K</td>\n",
              "      <td>0.804</td>\n",
              "      <td>41</td>\n",
              "    </tr>\n",
              "    <tr>\n",
              "      <th>10124</th>\n",
              "      <td>Married</td>\n",
              "      <td>Less than $40K</td>\n",
              "      <td>0.819</td>\n",
              "      <td>44</td>\n",
              "    </tr>\n",
              "    <tr>\n",
              "      <th>10125</th>\n",
              "      <td>Unknown</td>\n",
              "      <td>$40K - $60K</td>\n",
              "      <td>0.535</td>\n",
              "      <td>30</td>\n",
              "    </tr>\n",
              "    <tr>\n",
              "      <th>10126</th>\n",
              "      <td>Married</td>\n",
              "      <td>Less than $40K</td>\n",
              "      <td>0.703</td>\n",
              "      <td>43</td>\n",
              "    </tr>\n",
              "  </tbody>\n",
              "</table>\n",
              "<p>10127 rows × 4 columns</p>\n",
              "</div>"
            ],
            "text/plain": [
              "      Marital_Status Income_Category  Total_Amt_Chng_Q4_Q1  Customer_Age\n",
              "0            Married     $60K - $80K                 1.335            45\n",
              "1             Single  Less than $40K                 1.541            49\n",
              "2            Married    $80K - $120K                 2.594            51\n",
              "3            Unknown  Less than $40K                 1.405            40\n",
              "4            Married     $60K - $80K                 2.175            40\n",
              "...              ...             ...                   ...           ...\n",
              "10122         Single     $40K - $60K                 0.703            50\n",
              "10123       Divorced     $40K - $60K                 0.804            41\n",
              "10124        Married  Less than $40K                 0.819            44\n",
              "10125        Unknown     $40K - $60K                 0.535            30\n",
              "10126        Married  Less than $40K                 0.703            43\n",
              "\n",
              "[10127 rows x 4 columns]"
            ]
          },
          "metadata": {
            "tags": []
          },
          "execution_count": 32
        }
      ]
    },
    {
      "cell_type": "markdown",
      "metadata": {
        "id": "B6HevNvqXdz4"
      },
      "source": [
        "## **Korelasi**\r\n",
        "\r\n",
        "Mencari korelasi antara status pernikahan dengan pendapatan"
      ]
    },
    {
      "cell_type": "code",
      "metadata": {
        "id": "xld-VQdmXrq-",
        "colab": {
          "base_uri": "https://localhost:8080/",
          "height": 406
        },
        "outputId": "7425bcfd-8176-462a-9d14-d33f5da1d101"
      },
      "source": [
        "# Mengubah data kategori menjadi nomor agar dapat diproses\r\n",
        "# ref: https://stackoverflow.com/a/38089089/7936248\r\n",
        "\r\n",
        "data.Marital_Status = pd.Categorical(data.Marital_Status)\r\n",
        "data['Marital_Status_Cat'] = data.Marital_Status.cat.codes\r\n",
        "\r\n",
        "data.Income_Category = pd.Categorical(data.Income_Category)\r\n",
        "data['Income_Category_Cat'] = data.Income_Category.cat.codes\r\n",
        "\r\n",
        "data[['Marital_Status_Cat', 'Income_Category_Cat']]"
      ],
      "execution_count": null,
      "outputs": [
        {
          "output_type": "execute_result",
          "data": {
            "text/html": [
              "<div>\n",
              "<style scoped>\n",
              "    .dataframe tbody tr th:only-of-type {\n",
              "        vertical-align: middle;\n",
              "    }\n",
              "\n",
              "    .dataframe tbody tr th {\n",
              "        vertical-align: top;\n",
              "    }\n",
              "\n",
              "    .dataframe thead th {\n",
              "        text-align: right;\n",
              "    }\n",
              "</style>\n",
              "<table border=\"1\" class=\"dataframe\">\n",
              "  <thead>\n",
              "    <tr style=\"text-align: right;\">\n",
              "      <th></th>\n",
              "      <th>Marital_Status_Cat</th>\n",
              "      <th>Income_Category_Cat</th>\n",
              "    </tr>\n",
              "  </thead>\n",
              "  <tbody>\n",
              "    <tr>\n",
              "      <th>0</th>\n",
              "      <td>1</td>\n",
              "      <td>2</td>\n",
              "    </tr>\n",
              "    <tr>\n",
              "      <th>1</th>\n",
              "      <td>2</td>\n",
              "      <td>4</td>\n",
              "    </tr>\n",
              "    <tr>\n",
              "      <th>2</th>\n",
              "      <td>1</td>\n",
              "      <td>3</td>\n",
              "    </tr>\n",
              "    <tr>\n",
              "      <th>3</th>\n",
              "      <td>3</td>\n",
              "      <td>4</td>\n",
              "    </tr>\n",
              "    <tr>\n",
              "      <th>4</th>\n",
              "      <td>1</td>\n",
              "      <td>2</td>\n",
              "    </tr>\n",
              "    <tr>\n",
              "      <th>...</th>\n",
              "      <td>...</td>\n",
              "      <td>...</td>\n",
              "    </tr>\n",
              "    <tr>\n",
              "      <th>10122</th>\n",
              "      <td>2</td>\n",
              "      <td>1</td>\n",
              "    </tr>\n",
              "    <tr>\n",
              "      <th>10123</th>\n",
              "      <td>0</td>\n",
              "      <td>1</td>\n",
              "    </tr>\n",
              "    <tr>\n",
              "      <th>10124</th>\n",
              "      <td>1</td>\n",
              "      <td>4</td>\n",
              "    </tr>\n",
              "    <tr>\n",
              "      <th>10125</th>\n",
              "      <td>3</td>\n",
              "      <td>1</td>\n",
              "    </tr>\n",
              "    <tr>\n",
              "      <th>10126</th>\n",
              "      <td>1</td>\n",
              "      <td>4</td>\n",
              "    </tr>\n",
              "  </tbody>\n",
              "</table>\n",
              "<p>10127 rows × 2 columns</p>\n",
              "</div>"
            ],
            "text/plain": [
              "       Marital_Status_Cat  Income_Category_Cat\n",
              "0                       1                    2\n",
              "1                       2                    4\n",
              "2                       1                    3\n",
              "3                       3                    4\n",
              "4                       1                    2\n",
              "...                   ...                  ...\n",
              "10122                   2                    1\n",
              "10123                   0                    1\n",
              "10124                   1                    4\n",
              "10125                   3                    1\n",
              "10126                   1                    4\n",
              "\n",
              "[10127 rows x 2 columns]"
            ]
          },
          "metadata": {
            "tags": []
          },
          "execution_count": 24
        }
      ]
    },
    {
      "cell_type": "code",
      "metadata": {
        "colab": {
          "base_uri": "https://localhost:8080/"
        },
        "id": "PJOOi5l6OBjS",
        "outputId": "6087bc0c-4d90-422f-d94f-9b7ce4772bc5"
      },
      "source": [
        "# Korelasi antara status pernikahan dengan pendapatan\r\n",
        "# ref: https://realpython.com/numpy-scipy-pandas-correlation-python/#example-pandas-correlation-calculation, https://www.w3schools.com/python/pandas_correlations.asp\r\n",
        "\r\n",
        "data['Marital_Status_Cat'].corr(data['Income_Category_Cat'])"
      ],
      "execution_count": null,
      "outputs": [
        {
          "output_type": "execute_result",
          "data": {
            "text/plain": [
              "0.009659178565751525"
            ]
          },
          "metadata": {
            "tags": []
          },
          "execution_count": 25
        }
      ]
    },
    {
      "cell_type": "code",
      "metadata": {
        "colab": {
          "base_uri": "https://localhost:8080/",
          "height": 297
        },
        "id": "p0YtXj1tOuA8",
        "outputId": "2a0583e6-a143-44e0-e27e-628c427e8362"
      },
      "source": [
        "# ref: https://pandas.pydata.org/pandas-docs/stable/reference/api/pandas.DataFrame.plot.scatter.html\r\n",
        "\r\n",
        "data.plot.scatter(x='Marital_Status_Cat',y='Income_Category_Cat')"
      ],
      "execution_count": null,
      "outputs": [
        {
          "output_type": "execute_result",
          "data": {
            "text/plain": [
              "<matplotlib.axes._subplots.AxesSubplot at 0x7f99fdba9278>"
            ]
          },
          "metadata": {
            "tags": []
          },
          "execution_count": 26
        },
        {
          "output_type": "display_data",
          "data": {
            "image/png": "[encoded data removed]",
            "text/plain": [
              "<Figure size 432x288 with 1 Axes>"
            ]
          },
          "metadata": {
            "tags": [],
            "needs_background": "light"
          }
        }
      ]
    },
    {
      "cell_type": "markdown",
      "metadata": {
        "id": "vNZHFJ7Fj4HY"
      },
      "source": [
        "Hasil:\r\n",
        "\r\n",
        "Korelasi antara status pernikahan dengan pendapatan pengguna kartu kredit adalah 0,0097. Karena korelasi mendekati nilai 0, dan titik-titik pada scatter plot menyebar ini menyatakan bahwa hampir tidak terdapat hubungan antara status pernikahan dengan jumlah pendapatan pengguna kartu kredit. \r\n",
        "\r\n"
      ]
    },
    {
      "cell_type": "markdown",
      "metadata": {
        "id": "mgA4X4JmziIP"
      },
      "source": [
        "## **Box Plot**\r\n",
        "\r\n",
        "Mencari penyebaran jangka waktu hubungan pemegang kartu kredit dengan bank menggunakan pengelompokkan box plot"
      ]
    },
    {
      "cell_type": "code",
      "metadata": {
        "colab": {
          "base_uri": "https://localhost:8080/"
        },
        "id": "cvimB8h2KIPL",
        "outputId": "dbf716c8-4c59-49f6-f92c-dcfd7728701b"
      },
      "source": [
        "# Kuartil 1, 2, 3\r\n",
        "# ref: https://stackoverflow.com/a/45926291/7936248, https://stackoverflow.com/questions/55009203/how-does-pandas-calculate-quartiles, https://pandas.pydata.org/pandas-docs/stable/reference/api/pandas.DataFrame.quantile.html\r\n",
        "\r\n",
        "data.Months_on_book.quantile([0.25,0.5,0.75])"
      ],
      "execution_count": null,
      "outputs": [
        {
          "output_type": "execute_result",
          "data": {
            "text/plain": [
              "0.25    31.0\n",
              "0.50    36.0\n",
              "0.75    40.0\n",
              "Name: Months_on_book, dtype: float64"
            ]
          },
          "metadata": {
            "tags": []
          },
          "execution_count": 26
        }
      ]
    },
    {
      "cell_type": "code",
      "metadata": {
        "id": "frGvmzE8zrsF",
        "colab": {
          "base_uri": "https://localhost:8080/",
          "height": 283
        },
        "outputId": "0a8151b9-3e35-4dec-f695-6a0ea76b02b4"
      },
      "source": [
        "# ref: https://pandas.pydata.org/pandas-docs/stable/reference/api/pandas.DataFrame.boxplot.html\r\n",
        "\r\n",
        "data.boxplot(column=['Months_on_book'])"
      ],
      "execution_count": null,
      "outputs": [
        {
          "output_type": "execute_result",
          "data": {
            "text/plain": [
              "<matplotlib.axes._subplots.AxesSubplot at 0x7f99fde522b0>"
            ]
          },
          "metadata": {
            "tags": []
          },
          "execution_count": 28
        },
        {
          "output_type": "display_data",
          "data": {
            "image/png": "[encoded data removed]",
            "text/plain": [
              "<Figure size 432x288 with 1 Axes>"
            ]
          },
          "metadata": {
            "tags": [],
            "needs_background": "light"
          }
        }
      ]
    },
    {
      "cell_type": "markdown",
      "metadata": {
        "id": "F9SCVP5SkcD5"
      },
      "source": [
        "Hasil:\r\n",
        "\r\n",
        "Secara umum, boxplot digunakan untuk menilai kesimetrisan data. Dari data pada kolum Months on book, didapatkan bahwasannya data ini tidak simetris alias median , upperwhisker, dan bottom whisker tidak memiliki panjang yang sama dilihat dari visualnya. Boxplot ini lebih condong ke bawah dimana jarak median dan bottomwhiskernya lebih panjang, sehingga data tidak simetris."
      ]
    },
    {
      "cell_type": "markdown",
      "metadata": {
        "id": "caWzavHIzr5M"
      },
      "source": [
        "## **Diagram Batang**\r\n",
        "\r\n",
        "Mencari income category pemegang kartu kredit terbanyak dan tersedikit"
      ]
    },
    {
      "cell_type": "code",
      "metadata": {
        "id": "jczsWnPNz_Uq",
        "colab": {
          "base_uri": "https://localhost:8080/",
          "height": 349
        },
        "outputId": "6fe84e0a-b0bf-4980-ad63-a764c362c13a"
      },
      "source": [
        "# ref: https://stackoverflow.com/a/53953905/7936248\r\n",
        "\r\n",
        "data['Income_Category'].value_counts().plot.bar()"
      ],
      "execution_count": null,
      "outputs": [
        {
          "output_type": "execute_result",
          "data": {
            "text/plain": [
              "<matplotlib.axes._subplots.AxesSubplot at 0x7fa254540978>"
            ]
          },
          "metadata": {
            "tags": []
          },
          "execution_count": 27
        },
        {
          "output_type": "display_data",
          "data": {
            "image/png": "[encoded data removed]",
            "text/plain": [
              "<Figure size 432x288 with 1 Axes>"
            ]
          },
          "metadata": {
            "tags": [],
            "needs_background": "light"
          }
        }
      ]
    },
    {
      "cell_type": "markdown",
      "metadata": {
        "id": "NwC-tPP_k-Cr"
      },
      "source": [
        "Hasil:\r\n",
        "\r\n",
        "Dengan menggunakan metode diagram batang, Kami mendapatkan kesimpulan bahwa kelompok pendapatan yang bernilai kurang dari \\$40K memilki frekuensi yang paling banyak, sedangkan kelompok pendapatan yang bernilai lebih dari $120K memiliki frekuensi paling sedikit."
      ]
    },
    {
      "cell_type": "markdown",
      "metadata": {
        "id": "wpbYv-Ow-i9u"
      },
      "source": [
        "## **Heat Map**\r\n",
        "Mencari heatmap dari income catagory dan customer age, dimana customer age kita sudah menjadikannya sebagai age-range agar mempermudah pengerjaannya dan pemahaman."
      ]
    },
    {
      "cell_type": "code",
      "metadata": {
        "id": "h584Rk_p-uta",
        "colab": {
          "base_uri": "https://localhost:8080/",
          "height": 367
        },
        "outputId": "2df9ad68-54ca-4561-8142-6f6bcaab016a"
      },
      "source": [
        "# ref : https://pbpython.com/pandas-crosstab.html\r\n",
        "\r\n",
        "import matplotlib.pyplot as plt\r\n",
        "import seaborn as sns\r\n",
        "import numpy as np\r\n",
        "\r\n",
        "age_bins = [20, 40, 60, 80]\r\n",
        "age_labels = ['20 - 40', '40 - 60', '60 - 80']\r\n",
        "data['Age_Range'] = pd.cut(data['Customer_Age'], age_bins, labels=age_labels, ordered=True)\r\n",
        "crosstab = pd.crosstab(data['Age_Range'], data['Income_Category'])\r\n",
        "sns.heatmap(crosstab)"
      ],
      "execution_count": null,
      "outputs": [
        {
          "output_type": "execute_result",
          "data": {
            "text/plain": [
              "<matplotlib.axes._subplots.AxesSubplot at 0x7fa24eea8550>"
            ]
          },
          "metadata": {
            "tags": []
          },
          "execution_count": 42
        },
        {
          "output_type": "display_data",
          "data": {
            "image/png": "[encoded data removed]",
            "text/plain": [
              "<Figure size 432x288 with 2 Axes>"
            ]
          },
          "metadata": {
            "tags": [],
            "needs_background": "light"
          }
        }
      ]
    },
    {
      "cell_type": "markdown",
      "metadata": {
        "id": "Osv9Inh44-xn"
      },
      "source": [
        "Hasil:\r\n",
        "\r\n",
        "Dari visulisasi diatas, pada dasarnya range  umur dengan penghasilan akan dilihat ada berapa banyak data. Bisa disimpulkan secara sederhana, umur rentang 60-80 , dimana datanya sekitar 500 kebawah baik dari unknown-120k secara signifikan sama. Rentang umur 40-60 penghasilannya dari unknown-120k berkisar diatas 500 data. Sedangkan, rentang umur 20-40 penghasilannya juga berkisar diatas 500 data.\r\n",
        "\r\n"
      ]
    },
    {
      "cell_type": "markdown",
      "metadata": {
        "id": "orhgpb8p-vEq"
      },
      "source": [
        "## **Histogram**\r\n",
        "\r\n",
        "total_amt_change_q4_q1, mencari perubahan amount dalam beberapa bin pada histogram ini"
      ]
    },
    {
      "cell_type": "code",
      "metadata": {
        "id": "SOODiTEg-8Ht",
        "colab": {
          "base_uri": "https://localhost:8080/",
          "height": 265
        },
        "outputId": "b61431e0-07fc-4aed-816c-1b0f814125ac"
      },
      "source": [
        "# ref: https://pandas.pydata.org/pandas-docs/stable/reference/api/pandas.DataFrame.hist.html, https://stackoverflow.com/a/57008375/7936248, https://realpython.com/python-histograms/#visualizing-histograms-with-matplotlib-and-pandas\r\n",
        "\r\n",
        "n, bins, patches = plt.hist(data['Total_Amt_Chng_Q4_Q1'], edgecolor='white', bins=8)\r\n",
        "plt.xticks(bins)\r\n",
        "plt.show()\r\n"
      ],
      "execution_count": null,
      "outputs": [
        {
          "output_type": "display_data",
          "data": {
            "image/png": "[encoded data removed]",
            "text/plain": [
              "<Figure size 432x288 with 1 Axes>"
            ]
          },
          "metadata": {
            "tags": [],
            "needs_background": "light"
          }
        }
      ]
    },
    {
      "cell_type": "markdown",
      "metadata": {
        "id": "W5tNYEzW5AEK"
      },
      "source": [
        "Hasil:\r\n",
        "\r\n",
        "Pada Histogram kami mencari persebaran data BIN pada data['Total_Amt_Chng_Q4_Q1']. Kami mendapatkan nilai MAX sebesar 3,397 dan nilai MIN sebesar 0 sehingga kami mendapatkan Lebar BIN nya adalah 3,397. Pada histogram ini, kami memilih histogram dengan total 8 BIN, sehingga didapatkan histogram seperti diatas. Kami dapatkan bahwa nilai BIN kedua yang bernilai 0,84925 memiliki frekuensi yang paling tinggi.\r\n"
      ]
    },
    {
      "cell_type": "markdown",
      "metadata": {
        "id": "jwHe8BkOg-I0"
      },
      "source": [
        "# Kesimpulan"
      ]
    },
    {
      "cell_type": "markdown",
      "metadata": {
        "id": "r3keUbClTymH"
      },
      "source": [
        "Dari hasil pengolahan data yang telah kami lakukan berdasarkan lima metode pengolahan data, kami mendapatkan kesimpulan bahwa:\r\n",
        "1.\tDari hasil korelasi yang kami dapatkan, dapat disimpulkan bahwa hampir tidak terdapat hubungan antara ['Marital_Status'] dengan ['Income_Category']\r\n",
        "\r\n",
        "2.\tDari hasil boxplot yang kami dapatkan, dapat disimpulkan bahwa boxplot dari kolom ['Months_on_book'] lebih condong kebawah sehingga boxplot tersebut tidak simetris  \r\n",
        "\r\n",
        "3.\tDengan menggunakan metode diagram batang, kami mendapatkan kesimpulan bahwa frekuensi terbanyak pada data tersebut dipegang oleh orang-orang yang berpenghasilan dibawah \\$40K, dan frekuensi paling sedikit dipegang oleh kelompok orang yang berpenghasilan diatas $120K\r\n",
        "\r\n",
        "4.\tPada Heatmap yang kami buat, dapat disimpulkan bahwa rentang usia 60-80 memiliki jumlah frekuensi paling sedikit, dengan rentang frekuensi <500 data. Untuk rentang usia 20-40 memiliki jumlah frekuensi yang sedang dengan rentang frekuensi 500 < x < 1300. Sedangkan rentang usia 40-60 memiliki jumlah frekuensi terbanyak, sehingga terlihat pembagian warna ['Income_Category'] yang signifikan/kontras\r\n",
        "\r\n",
        "5.\tDengan histogram dengan BIN berjumlah=8, kami mendapatkan bahwa jummlah data dengan rentang 0,425 < x < 0,849 memiliki frekuensi yang paling banyak\r\n"
      ]
    }
  ]
}